{
 "cells": [
  {
   "cell_type": "markdown",
   "metadata": {},
   "source": [
    "## Importing required libraries"
   ]
  },
  {
   "cell_type": "code",
   "execution_count": 156,
   "metadata": {},
   "outputs": [],
   "source": [
    "import numpy as np\n",
    "from sklearn.model_selection import train_test_split\n",
    "from sklearn.linear_model import LogisticRegression\n",
    "from sklearn.naive_bayes import MultinomialNB\n",
    "from sklearn.ensemble import RandomForestClassifier\n",
    "from sklearn.linear_model import LogisticRegression\n",
    "from sklearn.ensemble import RandomForestRegressor\n",
    "from sklearn.svm import SVC\n",
    "import xgboost as xgb\n",
    "from sklearn.feature_extraction.text import TfidfVectorizer\n",
    "from sklearn.preprocessing import LabelEncoder\n",
    "from sklearn import metrics\n",
    "from sklearn.metrics import classification_report, accuracy_score\n",
    "import pandas as pd\n",
    "import seaborn as sns\n",
    "from matplotlib import pyplot as plt\n",
    "import regex as re\n",
    "import nltk\n",
    "\n"
   ]
  },
  {
   "cell_type": "markdown",
   "metadata": {},
   "source": [
    "## Loading the datasets using Pandas"
   ]
  },
  {
   "cell_type": "code",
   "execution_count": 157,
   "metadata": {},
   "outputs": [],
   "source": [
    "#Primary Dataset\n",
    "primary_data = pd.read_csv(\"newyork_stance_combined.csv\")\n",
    "\n",
    "#Secondary Dataset\n",
    "secondary_data= pd.read_csv(\"reddit.final_st_0.csv\")"
   ]
  },
  {
   "cell_type": "code",
   "execution_count": 158,
   "metadata": {},
   "outputs": [
    {
     "data": {
      "text/plain": [
       "((576, 2), (288, 2))"
      ]
     },
     "execution_count": 158,
     "metadata": {},
     "output_type": "execute_result"
    }
   ],
   "source": [
    "primary_data.shape, secondary_data.shape"
   ]
  },
  {
   "cell_type": "code",
   "execution_count": 159,
   "metadata": {},
   "outputs": [
    {
     "data": {
      "text/html": [
       "<div>\n",
       "<style scoped>\n",
       "    .dataframe tbody tr th:only-of-type {\n",
       "        vertical-align: middle;\n",
       "    }\n",
       "\n",
       "    .dataframe tbody tr th {\n",
       "        vertical-align: top;\n",
       "    }\n",
       "\n",
       "    .dataframe thead th {\n",
       "        text-align: right;\n",
       "    }\n",
       "</style>\n",
       "<table border=\"1\" class=\"dataframe\">\n",
       "  <thead>\n",
       "    <tr style=\"text-align: right;\">\n",
       "      <th></th>\n",
       "      <th>text</th>\n",
       "      <th>label</th>\n",
       "    </tr>\n",
       "  </thead>\n",
       "  <tbody>\n",
       "    <tr>\n",
       "      <th>0</th>\n",
       "      <td>What do you mean that the pandemic has stretch...</td>\n",
       "      <td>unclear</td>\n",
       "    </tr>\n",
       "    <tr>\n",
       "      <th>1</th>\n",
       "      <td>I’m not sure if it qualifies as Big Brother wh...</td>\n",
       "      <td>unclear</td>\n",
       "    </tr>\n",
       "    <tr>\n",
       "      <th>2</th>\n",
       "      <td>What if smallpox and polio came roaring back o...</td>\n",
       "      <td>pro-mitigation</td>\n",
       "    </tr>\n",
       "    <tr>\n",
       "      <th>3</th>\n",
       "      <td>I'm continuing to wear a mask.  Even in bed, s...</td>\n",
       "      <td>pro-mitigation</td>\n",
       "    </tr>\n",
       "    <tr>\n",
       "      <th>4</th>\n",
       "      <td>Although my husband and I really, really miss ...</td>\n",
       "      <td>pro-mitigation</td>\n",
       "    </tr>\n",
       "  </tbody>\n",
       "</table>\n",
       "</div>"
      ],
      "text/plain": [
       "                                                text           label\n",
       "0  What do you mean that the pandemic has stretch...         unclear\n",
       "1  I’m not sure if it qualifies as Big Brother wh...         unclear\n",
       "2  What if smallpox and polio came roaring back o...  pro-mitigation\n",
       "3  I'm continuing to wear a mask.  Even in bed, s...  pro-mitigation\n",
       "4  Although my husband and I really, really miss ...  pro-mitigation"
      ]
     },
     "execution_count": 159,
     "metadata": {},
     "output_type": "execute_result"
    }
   ],
   "source": [
    "primary_data.head()"
   ]
  },
  {
   "cell_type": "code",
   "execution_count": 160,
   "metadata": {},
   "outputs": [],
   "source": [
    "#Dropna\n",
    "primary_data =primary_data.dropna()\n",
    "secondary_data =secondary_data.dropna()"
   ]
  },
  {
   "cell_type": "code",
   "execution_count": 161,
   "metadata": {},
   "outputs": [
    {
     "data": {
      "text/plain": [
       "((576, 2), (288, 2))"
      ]
     },
     "execution_count": 161,
     "metadata": {},
     "output_type": "execute_result"
    }
   ],
   "source": [
    "primary_data.shape, secondary_data.shape"
   ]
  },
  {
   "cell_type": "code",
   "execution_count": 162,
   "metadata": {},
   "outputs": [],
   "source": [
    "# Removing missing values from primary and secondary_data\n",
    "primary_data = primary_data.loc[primary_data[\"label\"] != 'missing']\n",
    "secondary_data = secondary_data.loc[secondary_data[\"label\"] != 'missing']"
   ]
  },
  {
   "cell_type": "code",
   "execution_count": 163,
   "metadata": {},
   "outputs": [
    {
     "data": {
      "text/plain": [
       "((576, 2), (288, 2))"
      ]
     },
     "execution_count": 163,
     "metadata": {},
     "output_type": "execute_result"
    }
   ],
   "source": [
    "primary_data.shape, secondary_data.shape"
   ]
  },
  {
   "cell_type": "markdown",
   "metadata": {},
   "source": [
    "## Cleaning Data (Removing URls from text)"
   ]
  },
  {
   "cell_type": "code",
   "execution_count": 164,
   "metadata": {},
   "outputs": [],
   "source": [
    "primary_data['text'] = primary_data['text'].str.replace('http[s]?://(?:[a-zA-Z]|[0-9]|[$-_@.&+]|[!*\\(\\),]|(?:%[0-9a-fA-F][0-9a-fA-F]))+', ' ', regex=True)\n",
    "secondary_data['text'] = secondary_data['text'].str.replace('http[s]?://(?:[a-zA-Z]|[0-9]|[$-_@.&+]|[!*\\(\\),]|(?:%[0-9a-fA-F][0-9a-fA-F]))+', ' ', regex=True)"
   ]
  },
  {
   "cell_type": "code",
   "execution_count": 165,
   "metadata": {},
   "outputs": [],
   "source": [
    "primary_data.to_csv(\"df_primary_v3.csv\") ### CHECK"
   ]
  },
  {
   "cell_type": "code",
   "execution_count": 166,
   "metadata": {},
   "outputs": [
    {
     "data": {
      "text/html": [
       "<div>\n",
       "<style scoped>\n",
       "    .dataframe tbody tr th:only-of-type {\n",
       "        vertical-align: middle;\n",
       "    }\n",
       "\n",
       "    .dataframe tbody tr th {\n",
       "        vertical-align: top;\n",
       "    }\n",
       "\n",
       "    .dataframe thead th {\n",
       "        text-align: right;\n",
       "    }\n",
       "</style>\n",
       "<table border=\"1\" class=\"dataframe\">\n",
       "  <thead>\n",
       "    <tr style=\"text-align: right;\">\n",
       "      <th></th>\n",
       "      <th>text</th>\n",
       "      <th>label</th>\n",
       "    </tr>\n",
       "  </thead>\n",
       "  <tbody>\n",
       "    <tr>\n",
       "      <th>0</th>\n",
       "      <td>What do you mean that the pandemic has stretch...</td>\n",
       "      <td>unclear</td>\n",
       "    </tr>\n",
       "    <tr>\n",
       "      <th>1</th>\n",
       "      <td>I’m not sure if it qualifies as Big Brother wh...</td>\n",
       "      <td>unclear</td>\n",
       "    </tr>\n",
       "    <tr>\n",
       "      <th>2</th>\n",
       "      <td>What if smallpox and polio came roaring back o...</td>\n",
       "      <td>pro-mitigation</td>\n",
       "    </tr>\n",
       "    <tr>\n",
       "      <th>3</th>\n",
       "      <td>I'm continuing to wear a mask.  Even in bed, s...</td>\n",
       "      <td>pro-mitigation</td>\n",
       "    </tr>\n",
       "    <tr>\n",
       "      <th>4</th>\n",
       "      <td>Although my husband and I really, really miss ...</td>\n",
       "      <td>pro-mitigation</td>\n",
       "    </tr>\n",
       "  </tbody>\n",
       "</table>\n",
       "</div>"
      ],
      "text/plain": [
       "                                                text           label\n",
       "0  What do you mean that the pandemic has stretch...         unclear\n",
       "1  I’m not sure if it qualifies as Big Brother wh...         unclear\n",
       "2  What if smallpox and polio came roaring back o...  pro-mitigation\n",
       "3  I'm continuing to wear a mask.  Even in bed, s...  pro-mitigation\n",
       "4  Although my husband and I really, really miss ...  pro-mitigation"
      ]
     },
     "execution_count": 166,
     "metadata": {},
     "output_type": "execute_result"
    }
   ],
   "source": [
    "primary_data.head()"
   ]
  },
  {
   "cell_type": "markdown",
   "metadata": {},
   "source": [
    "## Split Primary dataset into Train (70%) and Test(30%) and use the secondary dataset as a test set"
   ]
  },
  {
   "cell_type": "code",
   "execution_count": 167,
   "metadata": {},
   "outputs": [],
   "source": [
    "# Split Primary dataset into Train (70%) and Test(30%)\n",
    "primary_data_train, primary_data_test = train_test_split(primary_data, test_size=0.3)\n",
    "\n",
    "# get labels from 2nd dataset\n",
    "y2_test = secondary_data.label\n",
    "\n",
    "# Get labels from train and test data\n",
    "y_train = primary_data_train.label\n",
    "y_test = primary_data_test.label\n"
   ]
  },
  {
   "cell_type": "code",
   "execution_count": 168,
   "metadata": {},
   "outputs": [
    {
     "data": {
      "text/html": [
       "<div>\n",
       "<style scoped>\n",
       "    .dataframe tbody tr th:only-of-type {\n",
       "        vertical-align: middle;\n",
       "    }\n",
       "\n",
       "    .dataframe tbody tr th {\n",
       "        vertical-align: top;\n",
       "    }\n",
       "\n",
       "    .dataframe thead th {\n",
       "        text-align: right;\n",
       "    }\n",
       "</style>\n",
       "<table border=\"1\" class=\"dataframe\">\n",
       "  <thead>\n",
       "    <tr style=\"text-align: right;\">\n",
       "      <th></th>\n",
       "      <th>text</th>\n",
       "      <th>label</th>\n",
       "    </tr>\n",
       "  </thead>\n",
       "  <tbody>\n",
       "    <tr>\n",
       "      <th>329</th>\n",
       "      <td>It's NYC - a densely populated place, where we...</td>\n",
       "      <td>pro-mitigation</td>\n",
       "    </tr>\n",
       "    <tr>\n",
       "      <th>149</th>\n",
       "      <td>Not discussed here is how economists estimate ...</td>\n",
       "      <td>unclear</td>\n",
       "    </tr>\n",
       "    <tr>\n",
       "      <th>458</th>\n",
       "      <td>If you don't want to get a Covid vaccine shot ...</td>\n",
       "      <td>pro-mitigation</td>\n",
       "    </tr>\n",
       "    <tr>\n",
       "      <th>392</th>\n",
       "      <td>Allow for opting out but it is a make it night...</td>\n",
       "      <td>pro-mitigation</td>\n",
       "    </tr>\n",
       "    <tr>\n",
       "      <th>513</th>\n",
       "      <td>The CDC, presumably at the urging of the Biden...</td>\n",
       "      <td>pro-mitigation</td>\n",
       "    </tr>\n",
       "  </tbody>\n",
       "</table>\n",
       "</div>"
      ],
      "text/plain": [
       "                                                  text           label\n",
       "329  It's NYC - a densely populated place, where we...  pro-mitigation\n",
       "149  Not discussed here is how economists estimate ...         unclear\n",
       "458  If you don't want to get a Covid vaccine shot ...  pro-mitigation\n",
       "392  Allow for opting out but it is a make it night...  pro-mitigation\n",
       "513  The CDC, presumably at the urging of the Biden...  pro-mitigation"
      ]
     },
     "execution_count": 168,
     "metadata": {},
     "output_type": "execute_result"
    }
   ],
   "source": [
    "primary_data_train.head()"
   ]
  },
  {
   "cell_type": "code",
   "execution_count": 169,
   "metadata": {},
   "outputs": [
    {
     "data": {
      "text/plain": [
       "pro-mitigation     155\n",
       "unclear            108\n",
       "anti-mitigation     25\n",
       "Name: label, dtype: int64"
      ]
     },
     "execution_count": 169,
     "metadata": {},
     "output_type": "execute_result"
    }
   ],
   "source": [
    "y2_test.value_counts()"
   ]
  },
  {
   "cell_type": "code",
   "execution_count": 170,
   "metadata": {},
   "outputs": [
    {
     "data": {
      "text/plain": [
       "pro-mitigation     101\n",
       "unclear             54\n",
       "anti-mitigation     18\n",
       "Name: label, dtype: int64"
      ]
     },
     "execution_count": 170,
     "metadata": {},
     "output_type": "execute_result"
    }
   ],
   "source": [
    "y_test.value_counts()"
   ]
  },
  {
   "cell_type": "code",
   "execution_count": 171,
   "metadata": {},
   "outputs": [
    {
     "data": {
      "text/plain": [
       "0      pro-mitigation\n",
       "1             unclear\n",
       "2      pro-mitigation\n",
       "3      pro-mitigation\n",
       "4             unclear\n",
       "            ...      \n",
       "283           unclear\n",
       "284    pro-mitigation\n",
       "285    pro-mitigation\n",
       "286           unclear\n",
       "287    pro-mitigation\n",
       "Name: label, Length: 288, dtype: object"
      ]
     },
     "execution_count": 171,
     "metadata": {},
     "output_type": "execute_result"
    }
   ],
   "source": [
    "y2_test"
   ]
  },
  {
   "cell_type": "markdown",
   "metadata": {},
   "source": [
    "## Use TFIDF vectorizer on the text from training and testing datasets"
   ]
  },
  {
   "cell_type": "code",
   "execution_count": 172,
   "metadata": {},
   "outputs": [],
   "source": [
    "vectorizer = TfidfVectorizer(min_df=3, stop_words=\"english\").fit(primary_data_train.text)\n",
    "X_train = vectorizer.transform(primary_data_train.text)\n",
    "\n",
    "X_test = vectorizer.transform(primary_data_test.text)\n",
    "\n",
    "X2_test = vectorizer.transform(secondary_data.text)\n"
   ]
  },
  {
   "cell_type": "code",
   "execution_count": 173,
   "metadata": {},
   "outputs": [
    {
     "name": "stdout",
     "output_type": "stream",
     "text": [
      "(403, 1090)\n",
      "(173, 1090)\n",
      "(288, 1090)\n",
      "(403,)\n",
      "(173,)\n",
      "(288,)\n"
     ]
    }
   ],
   "source": [
    "print(X_train.shape)\n",
    "\n",
    "print(X_test.shape)\n",
    "\n",
    "print(X2_test.shape)\n",
    "\n",
    "print(y_train.shape)\n",
    "\n",
    "print(y_test.shape)\n",
    "\n",
    "print(y2_test.shape)"
   ]
  },
  {
   "cell_type": "markdown",
   "metadata": {},
   "source": [
    "## ML Data Modelling \n",
    "Using differnet Machine Learning Classifiers - Logistic Regression, Naive Bayes, Random Forest, SVC and XGBClassifier"
   ]
  },
  {
   "cell_type": "markdown",
   "metadata": {},
   "source": [
    "## Logistic Regression model (training)"
   ]
  },
  {
   "cell_type": "code",
   "execution_count": 174,
   "metadata": {},
   "outputs": [],
   "source": [
    "lr_model = LogisticRegression(penalty=\"none\",multi_class=\"multinomial\",solver=\"lbfgs\").fit(X_train, y_train)\n",
    "\n",
    "# Predicting Test data from 1st dataset\n",
    "y_hat_lr_test = lr_model.predict(X_test)\n",
    "\n",
    "# Predicting Test data from Second Dataset\n",
    "y_hat_secondary_dataset_test = lr_model.predict(X2_test)"
   ]
  },
  {
   "cell_type": "markdown",
   "metadata": {},
   "source": [
    "### Logistic Regression Model performance metrics on Test data (Primary Dataset)"
   ]
  },
  {
   "cell_type": "code",
   "execution_count": 175,
   "metadata": {},
   "outputs": [
    {
     "name": "stdout",
     "output_type": "stream",
     "text": [
      "                 precision    recall  f1-score   support\n",
      "\n",
      "anti-mitigation       0.11      0.06      0.07        18\n",
      " pro-mitigation       0.67      0.55      0.61       101\n",
      "        unclear       0.41      0.61      0.49        54\n",
      "\n",
      "       accuracy                           0.52       173\n",
      "      macro avg       0.40      0.41      0.39       173\n",
      "   weighted avg       0.53      0.52      0.52       173\n",
      "\n"
     ]
    }
   ],
   "source": [
    "print(classification_report(y_test, y_hat_lr_test)) # 30%"
   ]
  },
  {
   "cell_type": "markdown",
   "metadata": {},
   "source": [
    "### Logistic Regression Model performance metrics on Test data (Secondary Dataset)"
   ]
  },
  {
   "cell_type": "code",
   "execution_count": 176,
   "metadata": {},
   "outputs": [
    {
     "name": "stdout",
     "output_type": "stream",
     "text": [
      "                 precision    recall  f1-score   support\n",
      "\n",
      "anti-mitigation       0.17      0.08      0.11        25\n",
      " pro-mitigation       0.60      0.55      0.58       155\n",
      "        unclear       0.45      0.56      0.50       108\n",
      "\n",
      "       accuracy                           0.51       288\n",
      "      macro avg       0.41      0.40      0.39       288\n",
      "   weighted avg       0.51      0.51      0.51       288\n",
      "\n"
     ]
    }
   ],
   "source": [
    "print(classification_report(y2_test,y_hat_secondary_dataset_test)) # secondary data"
   ]
  },
  {
   "cell_type": "markdown",
   "metadata": {},
   "source": [
    "## NaiveBayes model (training) and prediction on test data"
   ]
  },
  {
   "cell_type": "code",
   "execution_count": 177,
   "metadata": {},
   "outputs": [],
   "source": [
    "nb_model =MultinomialNB().fit(X_train, y_train)\n",
    "y_hat_nb_test = nb_model.predict(X_test)\n",
    "y_hat_nb_secondary_dataset_test = nb_model.predict(X2_test)"
   ]
  },
  {
   "cell_type": "markdown",
   "metadata": {},
   "source": [
    "### NB Model performance metrics on Test data (Primary Dataset)"
   ]
  },
  {
   "cell_type": "code",
   "execution_count": 178,
   "metadata": {},
   "outputs": [
    {
     "name": "stdout",
     "output_type": "stream",
     "text": [
      "                 precision    recall  f1-score   support\n",
      "\n",
      "anti-mitigation       0.00      0.00      0.00        18\n",
      " pro-mitigation       0.59      0.92      0.72       101\n",
      "        unclear       0.40      0.11      0.17        54\n",
      "\n",
      "       accuracy                           0.57       173\n",
      "      macro avg       0.33      0.34      0.30       173\n",
      "   weighted avg       0.47      0.57      0.47       173\n",
      "\n"
     ]
    },
    {
     "name": "stderr",
     "output_type": "stream",
     "text": [
      "/opt/anaconda3/lib/python3.9/site-packages/sklearn/metrics/_classification.py:1248: UndefinedMetricWarning: Precision and F-score are ill-defined and being set to 0.0 in labels with no predicted samples. Use `zero_division` parameter to control this behavior.\n",
      "  _warn_prf(average, modifier, msg_start, len(result))\n",
      "/opt/anaconda3/lib/python3.9/site-packages/sklearn/metrics/_classification.py:1248: UndefinedMetricWarning: Precision and F-score are ill-defined and being set to 0.0 in labels with no predicted samples. Use `zero_division` parameter to control this behavior.\n",
      "  _warn_prf(average, modifier, msg_start, len(result))\n",
      "/opt/anaconda3/lib/python3.9/site-packages/sklearn/metrics/_classification.py:1248: UndefinedMetricWarning: Precision and F-score are ill-defined and being set to 0.0 in labels with no predicted samples. Use `zero_division` parameter to control this behavior.\n",
      "  _warn_prf(average, modifier, msg_start, len(result))\n"
     ]
    }
   ],
   "source": [
    "print(classification_report(y_test, y_hat_nb_test)) # 30%"
   ]
  },
  {
   "cell_type": "markdown",
   "metadata": {},
   "source": [
    "### NB Model performance metrics on Test data (Secondary Dataset)"
   ]
  },
  {
   "cell_type": "code",
   "execution_count": 179,
   "metadata": {},
   "outputs": [
    {
     "name": "stdout",
     "output_type": "stream",
     "text": [
      "                 precision    recall  f1-score   support\n",
      "\n",
      "anti-mitigation       0.00      0.00      0.00        25\n",
      " pro-mitigation       0.55      0.99      0.71       155\n",
      "        unclear       0.75      0.08      0.15       108\n",
      "\n",
      "       accuracy                           0.56       288\n",
      "      macro avg       0.43      0.36      0.29       288\n",
      "   weighted avg       0.58      0.56      0.44       288\n",
      "\n"
     ]
    },
    {
     "name": "stderr",
     "output_type": "stream",
     "text": [
      "/opt/anaconda3/lib/python3.9/site-packages/sklearn/metrics/_classification.py:1248: UndefinedMetricWarning: Precision and F-score are ill-defined and being set to 0.0 in labels with no predicted samples. Use `zero_division` parameter to control this behavior.\n",
      "  _warn_prf(average, modifier, msg_start, len(result))\n",
      "/opt/anaconda3/lib/python3.9/site-packages/sklearn/metrics/_classification.py:1248: UndefinedMetricWarning: Precision and F-score are ill-defined and being set to 0.0 in labels with no predicted samples. Use `zero_division` parameter to control this behavior.\n",
      "  _warn_prf(average, modifier, msg_start, len(result))\n",
      "/opt/anaconda3/lib/python3.9/site-packages/sklearn/metrics/_classification.py:1248: UndefinedMetricWarning: Precision and F-score are ill-defined and being set to 0.0 in labels with no predicted samples. Use `zero_division` parameter to control this behavior.\n",
      "  _warn_prf(average, modifier, msg_start, len(result))\n"
     ]
    }
   ],
   "source": [
    "print(classification_report(y2_test,y_hat_nb_secondary_dataset_test)) # secondary data"
   ]
  },
  {
   "cell_type": "markdown",
   "metadata": {},
   "source": [
    "## Random Forest Classifier training and prediction on test data"
   ]
  },
  {
   "cell_type": "code",
   "execution_count": 180,
   "metadata": {},
   "outputs": [],
   "source": [
    "rf = RandomForestClassifier().fit(X_train, y_train)\n",
    "y_hat_rf_test = rf.predict(X_test)\n",
    "y_hat_rf_secondary_dataset_test = rf.predict(X2_test)"
   ]
  },
  {
   "cell_type": "markdown",
   "metadata": {},
   "source": [
    "### RF Model performance metrics on Test data (Primary Dataset)"
   ]
  },
  {
   "cell_type": "code",
   "execution_count": 182,
   "metadata": {},
   "outputs": [
    {
     "name": "stdout",
     "output_type": "stream",
     "text": [
      "                 precision    recall  f1-score   support\n",
      "\n",
      "anti-mitigation       0.00      0.00      0.00        18\n",
      " pro-mitigation       0.65      0.67      0.66       101\n",
      "        unclear       0.42      0.52      0.46        54\n",
      "\n",
      "       accuracy                           0.55       173\n",
      "      macro avg       0.36      0.40      0.38       173\n",
      "   weighted avg       0.51      0.55      0.53       173\n",
      "\n"
     ]
    }
   ],
   "source": [
    "print(classification_report(y_test, y_hat_rf_test)) # 30%"
   ]
  },
  {
   "cell_type": "markdown",
   "metadata": {},
   "source": [
    "### RF Model performance metrics on Test data (Secondary Dataset)"
   ]
  },
  {
   "cell_type": "code",
   "execution_count": 183,
   "metadata": {},
   "outputs": [
    {
     "name": "stdout",
     "output_type": "stream",
     "text": [
      "                 precision    recall  f1-score   support\n",
      "\n",
      "anti-mitigation       0.00      0.00      0.00        25\n",
      " pro-mitigation       0.67      0.71      0.69       155\n",
      "        unclear       0.56      0.64      0.60       108\n",
      "\n",
      "       accuracy                           0.62       288\n",
      "      macro avg       0.41      0.45      0.43       288\n",
      "   weighted avg       0.57      0.62      0.59       288\n",
      "\n"
     ]
    },
    {
     "name": "stderr",
     "output_type": "stream",
     "text": [
      "/opt/anaconda3/lib/python3.9/site-packages/sklearn/metrics/_classification.py:1248: UndefinedMetricWarning: Precision and F-score are ill-defined and being set to 0.0 in labels with no predicted samples. Use `zero_division` parameter to control this behavior.\n",
      "  _warn_prf(average, modifier, msg_start, len(result))\n",
      "/opt/anaconda3/lib/python3.9/site-packages/sklearn/metrics/_classification.py:1248: UndefinedMetricWarning: Precision and F-score are ill-defined and being set to 0.0 in labels with no predicted samples. Use `zero_division` parameter to control this behavior.\n",
      "  _warn_prf(average, modifier, msg_start, len(result))\n",
      "/opt/anaconda3/lib/python3.9/site-packages/sklearn/metrics/_classification.py:1248: UndefinedMetricWarning: Precision and F-score are ill-defined and being set to 0.0 in labels with no predicted samples. Use `zero_division` parameter to control this behavior.\n",
      "  _warn_prf(average, modifier, msg_start, len(result))\n"
     ]
    }
   ],
   "source": [
    "print(classification_report(y2_test,y_hat_rf_secondary_dataset_test)) # secondary data"
   ]
  },
  {
   "cell_type": "code",
   "execution_count": 184,
   "metadata": {},
   "outputs": [],
   "source": [
    "# SVC\n",
    "svc_model = SVC().fit(X_train, y_train)\n",
    "y_hat_svc_test = svc_model.predict(X_test)\n",
    "y_hat_svc_secondary_dataset_test = svc_model.predict(X2_test)"
   ]
  },
  {
   "cell_type": "code",
   "execution_count": 185,
   "metadata": {},
   "outputs": [
    {
     "name": "stdout",
     "output_type": "stream",
     "text": [
      "                 precision    recall  f1-score   support\n",
      "\n",
      "anti-mitigation       0.00      0.00      0.00        18\n",
      " pro-mitigation       0.59      0.81      0.68       101\n",
      "        unclear       0.39      0.24      0.30        54\n",
      "\n",
      "       accuracy                           0.55       173\n",
      "      macro avg       0.33      0.35      0.33       173\n",
      "   weighted avg       0.46      0.55      0.49       173\n",
      "\n"
     ]
    },
    {
     "name": "stderr",
     "output_type": "stream",
     "text": [
      "/opt/anaconda3/lib/python3.9/site-packages/sklearn/metrics/_classification.py:1248: UndefinedMetricWarning: Precision and F-score are ill-defined and being set to 0.0 in labels with no predicted samples. Use `zero_division` parameter to control this behavior.\n",
      "  _warn_prf(average, modifier, msg_start, len(result))\n",
      "/opt/anaconda3/lib/python3.9/site-packages/sklearn/metrics/_classification.py:1248: UndefinedMetricWarning: Precision and F-score are ill-defined and being set to 0.0 in labels with no predicted samples. Use `zero_division` parameter to control this behavior.\n",
      "  _warn_prf(average, modifier, msg_start, len(result))\n",
      "/opt/anaconda3/lib/python3.9/site-packages/sklearn/metrics/_classification.py:1248: UndefinedMetricWarning: Precision and F-score are ill-defined and being set to 0.0 in labels with no predicted samples. Use `zero_division` parameter to control this behavior.\n",
      "  _warn_prf(average, modifier, msg_start, len(result))\n"
     ]
    }
   ],
   "source": [
    "print(classification_report(y_test, y_hat_svc_test)) # 30%"
   ]
  },
  {
   "cell_type": "code",
   "execution_count": 186,
   "metadata": {},
   "outputs": [
    {
     "name": "stdout",
     "output_type": "stream",
     "text": [
      "                 precision    recall  f1-score   support\n",
      "\n",
      "anti-mitigation       0.00      0.00      0.00        25\n",
      " pro-mitigation       0.58      0.96      0.72       155\n",
      "        unclear       0.72      0.19      0.31       108\n",
      "\n",
      "       accuracy                           0.59       288\n",
      "      macro avg       0.43      0.39      0.34       288\n",
      "   weighted avg       0.58      0.59      0.50       288\n",
      "\n"
     ]
    },
    {
     "name": "stderr",
     "output_type": "stream",
     "text": [
      "/opt/anaconda3/lib/python3.9/site-packages/sklearn/metrics/_classification.py:1248: UndefinedMetricWarning: Precision and F-score are ill-defined and being set to 0.0 in labels with no predicted samples. Use `zero_division` parameter to control this behavior.\n",
      "  _warn_prf(average, modifier, msg_start, len(result))\n",
      "/opt/anaconda3/lib/python3.9/site-packages/sklearn/metrics/_classification.py:1248: UndefinedMetricWarning: Precision and F-score are ill-defined and being set to 0.0 in labels with no predicted samples. Use `zero_division` parameter to control this behavior.\n",
      "  _warn_prf(average, modifier, msg_start, len(result))\n",
      "/opt/anaconda3/lib/python3.9/site-packages/sklearn/metrics/_classification.py:1248: UndefinedMetricWarning: Precision and F-score are ill-defined and being set to 0.0 in labels with no predicted samples. Use `zero_division` parameter to control this behavior.\n",
      "  _warn_prf(average, modifier, msg_start, len(result))\n"
     ]
    }
   ],
   "source": [
    "print(classification_report(y2_test,y_hat_svc_secondary_dataset_test)) # secondary data"
   ]
  },
  {
   "cell_type": "code",
   "execution_count": 187,
   "metadata": {},
   "outputs": [
    {
     "data": {
      "text/plain": [
       "array([1, 1, 1, 1, 1, 2, 2, 1, 2, 2, 1, 1, 1, 2, 1, 1, 2, 2, 2, 2, 2, 2,\n",
       "       2, 2, 2, 2, 2, 1, 1, 2, 1, 2, 0, 2, 2, 1, 2, 1, 2, 1, 1, 2, 2, 2,\n",
       "       2, 1, 1, 1, 2, 1, 2, 2, 2, 2, 1, 2, 1, 1, 1, 2, 1, 2, 1, 2, 1, 2,\n",
       "       1, 1, 2, 2, 2, 1, 2, 1, 2, 2, 1, 1, 1, 1, 2, 2, 1, 2, 1, 1, 1, 1,\n",
       "       1, 1, 1, 1, 1, 2, 2, 1, 1, 1, 1, 2, 1, 2, 1, 1, 0, 2, 1, 1, 1, 1,\n",
       "       1, 2, 2, 2, 1, 2, 2, 1, 1, 2, 2, 1, 1, 1, 1, 1, 1, 2, 1, 1, 1, 1,\n",
       "       1, 2, 2, 1, 1, 1, 1, 1, 0, 1, 2, 1, 2, 1, 2, 1, 1, 1, 2, 1, 1, 1,\n",
       "       1, 1, 1, 2, 1, 1, 1, 1, 1, 2, 2, 1, 2, 2, 1, 2, 2, 1, 1, 1, 2, 1,\n",
       "       2, 1, 1, 1, 2, 2, 2, 2, 1, 1, 2, 1, 1, 2, 2, 1, 1, 1, 1, 1, 1, 1,\n",
       "       1, 2, 1, 1, 1, 1, 1, 1, 2, 0, 1, 1, 2, 2, 1, 2, 1, 1, 2, 2, 2, 1,\n",
       "       2, 1, 1, 2, 1, 1, 1, 2, 1, 2, 1, 1, 1, 1, 1, 1, 1, 1, 1, 1, 1, 2,\n",
       "       2, 2, 2, 2, 1, 2, 1, 2, 1, 2, 1, 1, 2, 2, 1, 1, 1, 2, 2, 2, 2, 1,\n",
       "       2, 1, 1, 0, 1, 1, 1, 2, 1, 2, 1, 1, 1, 1, 1, 1, 2, 1, 0, 2, 1, 1,\n",
       "       1, 1])"
      ]
     },
     "execution_count": 187,
     "metadata": {},
     "output_type": "execute_result"
    }
   ],
   "source": [
    "y_hat_xgb_secondary_dataset_test"
   ]
  },
  {
   "cell_type": "code",
   "execution_count": 188,
   "metadata": {},
   "outputs": [
    {
     "data": {
      "text/plain": [
       "0      pro-mitigation\n",
       "1             unclear\n",
       "2      pro-mitigation\n",
       "3      pro-mitigation\n",
       "4             unclear\n",
       "            ...      \n",
       "283           unclear\n",
       "284    pro-mitigation\n",
       "285    pro-mitigation\n",
       "286           unclear\n",
       "287    pro-mitigation\n",
       "Name: label, Length: 288, dtype: object"
      ]
     },
     "execution_count": 188,
     "metadata": {},
     "output_type": "execute_result"
    }
   ],
   "source": [
    "y2_test"
   ]
  },
  {
   "cell_type": "code",
   "execution_count": 189,
   "metadata": {},
   "outputs": [
    {
     "data": {
      "image/png": "[encoded data removed]",
      "text/plain": [
       "<Figure size 432x288 with 2 Axes>"
      ]
     },
     "metadata": {
      "needs_background": "light"
     },
     "output_type": "display_data"
    }
   ],
   "source": [
    "cnf_matrix_l1_primary_dataset = metrics.confusion_matrix(y_test, y_hat_lr_test)\n",
    "%matplotlib inline\n",
    "class_names = [\"False\", \"True\"]  # name  of classes\n",
    "fig, ax = plt.subplots()\n",
    "tick_marks = np.arange(len(class_names))\n",
    "plt.xticks([0, 1], label=class_names)\n",
    "plt.yticks(tick_marks, label=class_names)\n",
    "# create heatmap\n",
    "sns.heatmap(pd.DataFrame(cnf_matrix_l1_primary_dataset),annot=True, cmap=\"YlGnBu\", fmt='g')\n",
    "ax.xaxis.set_label_position(\"top\")\n",
    "plt.tight_layout()\n",
    "plt.title('Confusion matrix for Primary test dataset Logistic regression without penalty', y=1.1)\n",
    "plt.ylabel('Actual label')\n",
    "plt.xlabel('Predicted label')\n",
    "plt.show()\n"
   ]
  },
  {
   "cell_type": "markdown",
   "metadata": {},
   "source": [
    "## Confusion matrix for Primary test dataset"
   ]
  },
  {
   "cell_type": "code",
   "execution_count": 190,
   "metadata": {},
   "outputs": [
    {
     "data": {
      "image/png": "[encoded data removed]",
      "text/plain": [
       "<Figure size 432x288 with 2 Axes>"
      ]
     },
     "metadata": {
      "needs_background": "light"
     },
     "output_type": "display_data"
    }
   ],
   "source": [
    "cnf_matrix_l1_primary_dataset = metrics.confusion_matrix(y_test, y_hat_lr_test)\n",
    "%matplotlib inline\n",
    "class_names = [\"False\", \"True\"]  # name  of classes\n",
    "fig, ax = plt.subplots()\n",
    "tick_marks = np.arange(len(class_names))\n",
    "plt.xticks([0, 1], label=class_names)\n",
    "plt.yticks(tick_marks, label=class_names)\n",
    "# create heatmap\n",
    "sns.heatmap(pd.DataFrame(cnf_matrix_l1_primary_dataset),annot=True, cmap=\"YlGnBu\", fmt='g')\n",
    "ax.xaxis.set_label_position(\"top\")\n",
    "plt.tight_layout()\n",
    "plt.title('Confusion matrix for Primary test dataset Logistic regression without penalty', y=1.1)\n",
    "plt.ylabel('Actual label')\n",
    "plt.xlabel('Predicted label')\n",
    "plt.show()\n"
   ]
  },
  {
   "cell_type": "markdown",
   "metadata": {},
   "source": [
    "## Confusion matrix for Secondary test dataset"
   ]
  },
  {
   "cell_type": "code",
   "execution_count": 191,
   "metadata": {},
   "outputs": [
    {
     "data": {
      "image/png": "[encoded data removed]",
      "text/plain": [
       "<Figure size 432x288 with 2 Axes>"
      ]
     },
     "metadata": {
      "needs_background": "light"
     },
     "output_type": "display_data"
    }
   ],
   "source": [
    "cnf_matrix_l1_secondary_dataset = metrics.confusion_matrix(y2_test, y_hat_secondary_dataset_test)\n",
    "%matplotlib inline\n",
    "class_names = [\"False\", \"True\"]  # name  of classes\n",
    "fig, ax = plt.subplots()\n",
    "tick_marks = np.arange(len(class_names))\n",
    "plt.xticks([0, 1], label=class_names)\n",
    "plt.yticks(tick_marks, label=class_names)\n",
    "# create heatmap\n",
    "sns.heatmap(pd.DataFrame(cnf_matrix_l1_secondary_dataset),annot=True, cmap=\"YlGnBu\", fmt='g')\n",
    "ax.xaxis.set_label_position(\"top\")\n",
    "plt.tight_layout()\n",
    "plt.title('Confusion matrix for Primary test dataset Logistic regression without penalty', y=1.1)\n",
    "plt.ylabel('Actual label')\n",
    "plt.xlabel('Predicted label')\n",
    "plt.show()\n"
   ]
  },
  {
   "cell_type": "markdown",
   "metadata": {},
   "source": [
    "## Feature engineering"
   ]
  },
  {
   "cell_type": "code",
   "execution_count": 192,
   "metadata": {},
   "outputs": [
    {
     "name": "stdout",
     "output_type": "stream",
     "text": [
      "(403, 1094)\n",
      "(173, 1094)\n",
      "(288, 1094)\n"
     ]
    }
   ],
   "source": [
    "#Feature one is finding vax in the text like #Vaxxed #antiVax #vax #covidvax etc\n",
    "def feature_function(text):\n",
    "    return int(bool(\"vax\" in text.lower()))\n",
    "    #return int(bool(re.match(r\"^([A-Z][a-z]+\\s+){3}\", text)))\n",
    "\n",
    "#Feature two is finding vaccin in the text like vaccination, vaccine , vaccinated, #vaccinated , #vaccine, #covidVaccine, Vaccination drive etc\n",
    "def feature_function2(text):\n",
    "    # Flags texts that start with three capitalized words\n",
    "    return int(bool(\"vaccin\" in text.lower()))\n",
    "\n",
    "#Feature three is finding immun in the text like immunity %, immunization, immune, covid vaccine immuntiy etc\n",
    "def feature_function3(text):\n",
    "    # Flags texts that start with three capitalized words\n",
    "    return int(bool(\"immun\" in text.lower()))\n",
    "\n",
    "#Feature four is for finding words like phase 1 phase two trails etc in the text\n",
    "def feature_function4(text):\n",
    "    # Flags texts that start with three capitalized words\n",
    "    #print(re.findall(r\"(phase\\s{0,1}([1-4] | (one | two | three | four))){1, 3}\", text.lower(), flags=0))\n",
    "    return int(bool(re.findall(r\"(phase\\s{0,1}([1-4]|(one|two|three|four))){1,3}(clinical trail|trails){0,1}\", text.lower(), flags=0)))\n",
    "\n",
    "\n",
    "# Applying the above features on the primary_data_train data set\n",
    "new_feature_array1 = primary_data_train.text.apply(feature_function)\n",
    "new_feature_array1_2 = primary_data_train.text.apply(feature_function2)\n",
    "new_feature_array1_3 = primary_data_train.text.apply(feature_function3)\n",
    "new_feature_array1_4 = primary_data_train.text.apply(feature_function4)\n",
    "\n",
    "#Adding the new features to our training dataset\n",
    "X_train_fin = np.insert(X_train.todense(), X_train.shape[1], new_feature_array1, axis=1)\n",
    "X_train_fin = np.insert(X_train_fin, X_train_fin.shape[1], new_feature_array1_2, axis=1)\n",
    "X_train_fin = np.insert(X_train_fin, X_train_fin.shape[1], new_feature_array1_3, axis=1)\n",
    "X_train_fin = np.insert(X_train_fin, X_train_fin.shape[1], new_feature_array1_4, axis=1)\n",
    "\n",
    "#Applying above features to our primary test data set\n",
    "new_feature_array2 = primary_data_test.text.apply(feature_function2)\n",
    "new_feature_array2_2 = primary_data_test.text.apply(feature_function2)\n",
    "new_feature_array2_3 = primary_data_test.text.apply(feature_function3)\n",
    "new_feature_array2_4 = primary_data_test.text.apply(feature_function4)\n",
    "\n",
    "#Adding the new features to our primary test dataset\n",
    "X_test_fin = np.insert(X_test.todense(), X_test.shape[1], new_feature_array2, axis=1)\n",
    "X_test_fin = np.insert(X_test_fin, X_test_fin.shape[1], new_feature_array2_2, axis=1)\n",
    "X_test_fin = np.insert(X_test_fin, X_test_fin.shape[1], new_feature_array2_3, axis=1)\n",
    "X_test_fin = np.insert(X_test_fin, X_test_fin.shape[1], new_feature_array2_4, axis=1)\n",
    "\n",
    "#Applying above features to our secondary test data set\n",
    "new_feature_array3 = secondary_data.text.apply(feature_function)\n",
    "new_feature_array3_2 = secondary_data.text.apply(feature_function2)\n",
    "new_feature_array3_3 = secondary_data.text.apply(feature_function3)\n",
    "new_feature_array3_4 = secondary_data.text.apply(feature_function4)\n",
    "\n",
    "#Adding the new features to our secondary test dataset\n",
    "X2_test_fin = np.insert(X2_test.todense(), X2_test.shape[1], new_feature_array3, axis=1)\n",
    "X2_test_fin = np.insert(X2_test_fin, X2_test_fin.shape[1], new_feature_array3_2, axis=1)\n",
    "X2_test_fin = np.insert(X2_test_fin, X2_test_fin.shape[1], new_feature_array3_3, axis=1)\n",
    "X2_test_fin = np.insert(X2_test_fin, X2_test_fin.shape[1], new_feature_array3_4, axis=1)\n",
    "\n",
    "#Checking the shapes of the training, testing datasets to see if new columns are added\n",
    "print(X_train_fin.shape)\n",
    "print(X_test_fin.shape)\n",
    "print(X2_test_fin.shape)\n"
   ]
  },
  {
   "cell_type": "markdown",
   "metadata": {},
   "source": [
    "# Random Forest Classifier Model Training after Feature Engineering"
   ]
  },
  {
   "cell_type": "code",
   "execution_count": 202,
   "metadata": {},
   "outputs": [],
   "source": [
    "# rf with features\n",
    "rf_model_with_features = RandomForestClassifier().fit(X_train_fin, y_train)\n",
    "#print(lr2_model_with_features.coef_)\n",
    "y_hat_rf_test_features = rf_model_with_features.predict(X_test_fin)\n",
    "\n",
    "y2_hat_rf_test_features = rf_model_with_features.predict(X2_test_fin)"
   ]
  },
  {
   "cell_type": "markdown",
   "metadata": {},
   "source": [
    "## RF Model performance metrics on feature engineering (Primary Dataset)"
   ]
  },
  {
   "cell_type": "code",
   "execution_count": 203,
   "metadata": {},
   "outputs": [
    {
     "name": "stdout",
     "output_type": "stream",
     "text": [
      "                 precision    recall  f1-score   support\n",
      "\n",
      "anti-mitigation       0.00      0.00      0.00        18\n",
      " pro-mitigation       0.64      0.67      0.66       101\n",
      "        unclear       0.42      0.50      0.45        54\n",
      "\n",
      "       accuracy                           0.55       173\n",
      "      macro avg       0.35      0.39      0.37       173\n",
      "   weighted avg       0.50      0.55      0.53       173\n",
      "\n"
     ]
    }
   ],
   "source": [
    "print(classification_report(y_test, y_hat_rf_test_features)) # 30%"
   ]
  },
  {
   "cell_type": "markdown",
   "metadata": {},
   "source": [
    "## RF Model performance metrics on feature engineering (Secondary Dataset)"
   ]
  },
  {
   "cell_type": "code",
   "execution_count": 205,
   "metadata": {},
   "outputs": [
    {
     "name": "stdout",
     "output_type": "stream",
     "text": [
      "                 precision    recall  f1-score   support\n",
      "\n",
      "anti-mitigation       0.00      0.00      0.00        25\n",
      " pro-mitigation       0.70      0.68      0.69       155\n",
      "        unclear       0.56      0.71      0.63       108\n",
      "\n",
      "       accuracy                           0.64       288\n",
      "      macro avg       0.42      0.47      0.44       288\n",
      "   weighted avg       0.59      0.64      0.61       288\n",
      "\n"
     ]
    },
    {
     "name": "stderr",
     "output_type": "stream",
     "text": [
      "/opt/anaconda3/lib/python3.9/site-packages/sklearn/metrics/_classification.py:1248: UndefinedMetricWarning: Precision and F-score are ill-defined and being set to 0.0 in labels with no predicted samples. Use `zero_division` parameter to control this behavior.\n",
      "  _warn_prf(average, modifier, msg_start, len(result))\n",
      "/opt/anaconda3/lib/python3.9/site-packages/sklearn/metrics/_classification.py:1248: UndefinedMetricWarning: Precision and F-score are ill-defined and being set to 0.0 in labels with no predicted samples. Use `zero_division` parameter to control this behavior.\n",
      "  _warn_prf(average, modifier, msg_start, len(result))\n",
      "/opt/anaconda3/lib/python3.9/site-packages/sklearn/metrics/_classification.py:1248: UndefinedMetricWarning: Precision and F-score are ill-defined and being set to 0.0 in labels with no predicted samples. Use `zero_division` parameter to control this behavior.\n",
      "  _warn_prf(average, modifier, msg_start, len(result))\n"
     ]
    }
   ],
   "source": [
    "print(classification_report(y2_test,y2_hat_rf_test_features)) # secondary data"
   ]
  },
  {
   "cell_type": "markdown",
   "metadata": {},
   "source": [
    "## Creating Confusion Matrices for better visualization of results above"
   ]
  },
  {
   "cell_type": "code",
   "execution_count": 196,
   "metadata": {},
   "outputs": [
    {
     "name": "stdout",
     "output_type": "stream",
     "text": [
      "Secondary Dataset without features\n",
      "[[  0  16   9]\n",
      " [  0 110  45]\n",
      " [  0  39  69]]\n",
      "Secondary Dataset with features\n",
      "[[  0  13  12]\n",
      " [  0 101  54]\n",
      " [  0  31  77]]\n",
      "\n",
      "Primary Dataset without features\n",
      "[[ 0 12  6]\n",
      " [ 0 68 33]\n",
      " [ 2 24 28]]\n",
      "Primary Dataset with features\n",
      "[[ 0 12  6]\n",
      " [ 0 68 33]\n",
      " [ 2 25 27]]\n"
     ]
    }
   ],
   "source": [
    "print(\"Secondary Dataset without features\")\n",
    "cnf_matrix_without_features_secondary_test_dataset = metrics.confusion_matrix(y2_test, y_hat_rf_secondary_dataset_test)\n",
    "print(cnf_matrix_without_features_secondary_test_dataset)\n",
    "\n",
    "print(\"Secondary Dataset with features\")\n",
    "cnf_matrix_with_features_secondary_test_dataset = metrics.confusion_matrix(\n",
    "    y2_test, y2_hat_rf_test_features)\n",
    "print(cnf_matrix_with_features_secondary_test_dataset)\n",
    "\n",
    "print(\"\\nPrimary Dataset without features\")\n",
    "cnf_matrix_without_features_primary_test_dataset = metrics.confusion_matrix(y_test, y_hat_rf_test)\n",
    "print(cnf_matrix_without_features_primary_test_dataset)\n",
    "\n",
    "print(\"Primary Dataset with features\")\n",
    "cnf_matrix_with_features_primary_test_dataset = metrics.confusion_matrix(y_test, y_hat_rf_test_features)\n",
    "print(cnf_matrix_with_features_primary_test_dataset)\n",
    "\n"
   ]
  },
  {
   "cell_type": "markdown",
   "metadata": {},
   "source": [
    "## Confusion matrix for Primary test dataset without features"
   ]
  },
  {
   "cell_type": "code",
   "execution_count": 197,
   "metadata": {},
   "outputs": [
    {
     "data": {
      "image/png": "[encoded data removed]",
      "text/plain": [
       "<Figure size 432x288 with 2 Axes>"
      ]
     },
     "metadata": {
      "needs_background": "light"
     },
     "output_type": "display_data"
    }
   ],
   "source": [
    "%matplotlib inline\n",
    "class_names = [\"False\", \"True\"]  # name  of classes\n",
    "fig, ax = plt.subplots()\n",
    "tick_marks = np.arange(len(class_names))\n",
    "plt.xticks([0,1], label=class_names)\n",
    "plt.yticks(tick_marks, label=class_names)\n",
    "# create heatmap\n",
    "sns.heatmap(pd.DataFrame(cnf_matrix_without_features_primary_test_dataset),\n",
    "            annot=True, cmap=\"YlGnBu\", fmt='g')\n",
    "ax.xaxis.set_label_position(\"top\")\n",
    "plt.tight_layout()\n",
    "plt.title('Confusion matrix for Primary test dataset without features', y=1.1)\n",
    "plt.ylabel('Actual label')\n",
    "plt.xlabel('Predicted label')\n",
    "plt.show()"
   ]
  },
  {
   "cell_type": "markdown",
   "metadata": {},
   "source": [
    "## Confusion matrix for Primary test dataset with features"
   ]
  },
  {
   "cell_type": "code",
   "execution_count": 198,
   "metadata": {},
   "outputs": [
    {
     "data": {
      "text/plain": [
       "Text(0.5, 257.44, 'Predicted label')"
      ]
     },
     "execution_count": 198,
     "metadata": {},
     "output_type": "execute_result"
    },
    {
     "data": {
      "image/png": "[encoded data removed]",
      "text/plain": [
       "<Figure size 432x288 with 2 Axes>"
      ]
     },
     "metadata": {
      "needs_background": "light"
     },
     "output_type": "display_data"
    }
   ],
   "source": [
    "%matplotlib inline\n",
    "class_names = [\"False\", \"True\"]  # name  of classes\n",
    "fig, ax = plt.subplots()\n",
    "tick_marks = np.arange(len(class_names))\n",
    "plt.xticks(tick_marks, class_names)\n",
    "plt.yticks(tick_marks, class_names)\n",
    "# create heatmap\n",
    "sns.heatmap(pd.DataFrame(cnf_matrix_with_features_primary_test_dataset),\n",
    "            annot=True, cmap=\"YlGnBu\", fmt='g')\n",
    "ax.xaxis.set_label_position(\"top\")\n",
    "plt.tight_layout()\n",
    "plt.title('Confusion matrix for Primary test dataset with features', y=1.1)\n",
    "plt.ylabel('Actual label')\n",
    "plt.xlabel('Predicted label')\n"
   ]
  },
  {
   "cell_type": "markdown",
   "metadata": {},
   "source": [
    "## Confusion matrix for Secondary test dataset without features"
   ]
  },
  {
   "cell_type": "code",
   "execution_count": 199,
   "metadata": {},
   "outputs": [
    {
     "data": {
      "text/plain": [
       "Text(0.5, 257.44, 'Predicted label')"
      ]
     },
     "execution_count": 199,
     "metadata": {},
     "output_type": "execute_result"
    },
    {
     "data": {
      "image/png": "[encoded data removed]",
      "text/plain": [
       "<Figure size 432x288 with 2 Axes>"
      ]
     },
     "metadata": {
      "needs_background": "light"
     },
     "output_type": "display_data"
    }
   ],
   "source": [
    "%matplotlib inline\n",
    "class_names = [\"False\", \"True\"]  # name  of classes\n",
    "fig, ax = plt.subplots()\n",
    "tick_marks = np.arange(len(class_names))\n",
    "plt.xticks(tick_marks, class_names)\n",
    "plt.yticks(tick_marks, class_names)\n",
    "# create heatmap\n",
    "sns.heatmap(pd.DataFrame(cnf_matrix_without_features_secondary_test_dataset),\n",
    "            annot=True, cmap=\"YlGnBu\", fmt='g')\n",
    "ax.xaxis.set_label_position(\"top\")\n",
    "plt.tight_layout()\n",
    "plt.title('Confusion matrix for Secondary test dataset without features', y=1.1)\n",
    "plt.ylabel('Actual label')\n",
    "plt.xlabel('Predicted label')\n"
   ]
  },
  {
   "cell_type": "markdown",
   "metadata": {},
   "source": [
    "## Confusion matrix for Secondary test dataset with features"
   ]
  },
  {
   "cell_type": "code",
   "execution_count": 200,
   "metadata": {},
   "outputs": [
    {
     "data": {
      "text/plain": [
       "Text(0.5, 257.44, 'Predicted label')"
      ]
     },
     "execution_count": 200,
     "metadata": {},
     "output_type": "execute_result"
    },
    {
     "data": {
      "image/png": "[encoded data removed]",
      "text/plain": [
       "<Figure size 432x288 with 2 Axes>"
      ]
     },
     "metadata": {
      "needs_background": "light"
     },
     "output_type": "display_data"
    }
   ],
   "source": [
    "%matplotlib inline\n",
    "class_names = [\"False\", \"True\"]  # name  of classes\n",
    "fig, ax = plt.subplots()\n",
    "tick_marks = np.arange(len(class_names))\n",
    "plt.xticks(tick_marks, class_names)\n",
    "plt.yticks(tick_marks, class_names)\n",
    "# create heatmap\n",
    "sns.heatmap(pd.DataFrame(cnf_matrix_with_features_secondary_test_dataset),\n",
    "            annot=True, cmap=\"YlGnBu\", fmt='g')\n",
    "ax.xaxis.set_label_position(\"top\")\n",
    "plt.tight_layout()\n",
    "plt.title('Confusion matrix for Secondary test dataset with features', y=1.1)\n",
    "plt.ylabel('Actual label')\n",
    "plt.xlabel('Predicted label')\n"
   ]
  },
  {
   "cell_type": "markdown",
   "metadata": {},
   "source": [
    "# Best Performing Model for New york and Reddit stance"
   ]
  },
  {
   "cell_type": "markdown",
   "metadata": {},
   "source": [
    "### We are getting better accuracy on both primary and secondary data as 55% and 62% for Random Forest so for this dataset Random Forest is performing better than other classifiers"
   ]
  },
  {
   "cell_type": "code",
   "execution_count": null,
   "metadata": {},
   "outputs": [],
   "source": []
  },
  {
   "cell_type": "code",
   "execution_count": null,
   "metadata": {},
   "outputs": [],
   "source": []
  }
 ],
 "metadata": {
  "interpreter": {
   "hash": "b3ba2566441a7c06988d0923437866b63cedc61552a5af99d1f4fb67d367b25f"
  },
  "kernelspec": {
   "display_name": "Python 3 (ipykernel)",
   "language": "python",
   "name": "python3"
  },
  "language_info": {
   "codemirror_mode": {
    "name": "ipython",
    "version": 3
   },
   "file_extension": ".py",
   "mimetype": "text/x-python",
   "name": "python",
   "nbconvert_exporter": "python",
   "pygments_lexer": "ipython3",
   "version": "3.9.7"
  }
 },
 "nbformat": 4,
 "nbformat_minor": 2
}
